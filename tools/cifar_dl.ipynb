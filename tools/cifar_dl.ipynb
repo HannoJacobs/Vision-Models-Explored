{
 "cells": [
  {
   "cell_type": "code",
   "execution_count": 3,
   "metadata": {},
   "outputs": [
    {
     "name": "stdout",
     "output_type": "stream",
     "text": [
      "Files already downloaded and verified\n",
      "Files already downloaded and verified\n",
      "Saving train images...\n"
     ]
    },
    {
     "name": "stderr",
     "output_type": "stream",
     "text": [
      "100%|██████████| 50000/50000 [00:11<00:00, 4478.78it/s]\n"
     ]
    },
    {
     "name": "stdout",
     "output_type": "stream",
     "text": [
      "Saving test images...\n"
     ]
    },
    {
     "name": "stderr",
     "output_type": "stream",
     "text": [
      "100%|██████████| 10000/10000 [00:01<00:00, 5122.58it/s]"
     ]
    },
    {
     "name": "stdout",
     "output_type": "stream",
     "text": [
      "Images saved to: cifar10_images/train and cifar10_images/test\n"
     ]
    },
    {
     "name": "stderr",
     "output_type": "stream",
     "text": [
      "\n"
     ]
    }
   ],
   "source": [
    "import os\n",
    "from torchvision import datasets\n",
    "from torchvision.transforms import ToPILImage\n",
    "from tqdm import tqdm\n",
    "\n",
    "# Define output directory\n",
    "output_dir = \"cifar10_images\"\n",
    "os.makedirs(output_dir, exist_ok=True)\n",
    "\n",
    "# Load CIFAR-10 datasets\n",
    "train_set = datasets.CIFAR10(root=\"data\", train=True, download=True)\n",
    "test_set = datasets.CIFAR10(root=\"data\", train=False, download=True)\n",
    "\n",
    "# Map labels to class names\n",
    "class_names = train_set.classes  # e.g., ['airplane', 'automobile', ...]\n",
    "\n",
    "\n",
    "# Save images to disk\n",
    "def save_images(dataset, split):\n",
    "    print(f\"Saving {split} images...\")\n",
    "    to_pil = ToPILImage()\n",
    "    for idx in tqdm(range(len(dataset))):\n",
    "        img, label = dataset[idx]\n",
    "        class_name = class_names[label]\n",
    "        class_folder = os.path.join(output_dir, split, class_name)\n",
    "        os.makedirs(class_folder, exist_ok=True)\n",
    "\n",
    "        img_path = os.path.join(class_folder, f\"{split}_{idx:05d}.png\")\n",
    "        img.save(img_path)\n",
    "\n",
    "\n",
    "# Save both train and test sets\n",
    "save_images(train_set, \"train\")\n",
    "save_images(test_set, \"test\")\n",
    "\n",
    "print(f\"Images saved to: {output_dir}/train and {output_dir}/test\")"
   ]
  },
  {
   "cell_type": "code",
   "execution_count": 6,
   "metadata": {},
   "outputs": [
    {
     "data": {
      "text/plain": [
       "50000"
      ]
     },
     "execution_count": 6,
     "metadata": {},
     "output_type": "execute_result"
    }
   ],
   "source": [
    "from torchvision.datasets import ImageFolder\n",
    "from torchvision import transforms\n",
    "from torch.utils.data import DataLoader\n",
    "\n",
    "transform = transforms.ToTensor()\n",
    "train_dataset = ImageFolder(root=\"cifar10_images/train\", transform=transform)\n",
    "len(train_dataset)"
   ]
  }
 ],
 "metadata": {
  "kernelspec": {
   "display_name": ".venv",
   "language": "python",
   "name": "python3"
  },
  "language_info": {
   "codemirror_mode": {
    "name": "ipython",
    "version": 3
   },
   "file_extension": ".py",
   "mimetype": "text/x-python",
   "name": "python",
   "nbconvert_exporter": "python",
   "pygments_lexer": "ipython3",
   "version": "3.10.15"
  }
 },
 "nbformat": 4,
 "nbformat_minor": 2
}
